{
 "cells": [
  {
   "cell_type": "code",
   "execution_count": 1,
   "id": "6d5a9f2c-d60e-4267-88d7-c4b6deff7eb0",
   "metadata": {},
   "outputs": [],
   "source": [
    "import pandas as pd\n",
    "import numpy as np\n",
    "import torch\n",
    "from torch_geometric.data import Data\n",
    "from torch_geometric.nn import GCNConv, GATConv\n",
    "from torch_geometric.utils import negative_sampling\n",
    "import torch.nn.functional as F\n",
    "from sklearn.model_selection import train_test_split\n",
    "from sklearn.metrics import roc_auc_score, average_precision_score, roc_curve, accuracy_score\n",
    "import matplotlib.pyplot as plt\n",
    "import networkx as nx\n",
    "from torch_geometric.utils import from_networkx, to_undirected\n"
   ]
  },
  {
   "cell_type": "code",
   "execution_count": 2,
   "id": "a15760e6",
   "metadata": {},
   "outputs": [
    {
     "name": "stdout",
     "output_type": "stream",
     "text": [
      "Using device: cuda\n"
     ]
    }
   ],
   "source": [
    "# Check if CUDA is available\n",
    "device = torch.device('cuda' if torch.cuda.is_available() else 'cpu')\n",
    "print(f\"Using device: {device}\")"
   ]
  },
  {
   "cell_type": "code",
   "execution_count": 3,
   "id": "2affbaa0",
   "metadata": {},
   "outputs": [],
   "source": [
    "# Load and combine the embeddings, ensuring all are reduced to 512 dimensions\n",
    "embedding_paths = {\n",
    "    'gene': '/data/luis/Embeddings_512/gene_embeddings_512.csv',\n",
    "    'drug': '/data/dandreas/cellDrugNet/drug_embeddings_chemberta_512.csv',\n",
    "    'cell': '/data/luis/Embeddings_512/cell_embeddings_512.csv'\n",
    "}"
   ]
  },
  {
   "cell_type": "code",
   "execution_count": 4,
   "id": "c16c6971",
   "metadata": {},
   "outputs": [],
   "source": [
    "def load_embeddings(paths):\n",
    "    all_embeddings = {}\n",
    "    for entity_type, path in paths.items():\n",
    "        df = pd.read_csv(path)\n",
    "        for _, row in df.iterrows():\n",
    "            all_embeddings[row[0]] = row[1:].astype(np.float32).values\n",
    "    return all_embeddings\n",
    "\n",
    "embeddings = load_embeddings(embedding_paths)"
   ]
  },
  {
   "cell_type": "code",
   "execution_count": 5,
   "id": "62b060f1-08f0-448e-803b-1560b95ea8e1",
   "metadata": {},
   "outputs": [],
   "source": [
    "## DATASETS ##\n",
    "##------------------------------GENE-TO-CELL-----------------------------------##\n",
    "# Load and preprocess the gene-to-cell dataset\n",
    "df_gene_cell = pd.read_csv('/data/luis/Datasets/genetocell.csv')  \n",
    "df_gene_cell = df_gene_cell[['cell', 'gene']]\n",
    "\n",
    "\n",
    "##------------------------------CELL-TO-DRUG-----------------------------------##\n",
    "# Load and preprocess the cell-to-drug dataset\n",
    "df_cell_drug = pd.read_csv('/data/mikaela/Drug_Response_SMILES_transformed_filtered.csv', index_col = 0) \n",
    "#print(df_cell_drug.head())\n",
    "#print(\"Shape original df_cell_drug: \", df_cell_drug.shape)\n",
    "\n",
    "# Convert the cell-drug matrix to an edge list\n",
    "cell_drug_edges = []\n",
    "for cell in df_cell_drug.index: # Iterate over the row indices (cells) of the DataFrame\n",
    "    for smiles in df_cell_drug.columns: # Iterate over the column names (SMILES string) of the DataFrame\n",
    "        if df_cell_drug.loc[cell, smiles] == 1: # If the cell-drug pair has a value of 1 indicating there is a connection\n",
    "            cell_drug_edges.append([cell, smiles]) # If there is a connection, the pair '[cell, smiles]' is added to the edge list\n",
    "\n",
    "# Convert edge list to DataFrame\n",
    "df_cell_drug = pd.DataFrame(cell_drug_edges, columns=['cell', 'SMILES'])\n",
    "#print(\"Shape df_cell_drug: \", df_cell_drug.shape)\n",
    "#print(\"Shape of cell_drug_edges: \", cell_drug_edges[:5])\n",
    "\n",
    "\n",
    "##------------------------------GENE-TO-DRUG------------------------------------##\n",
    "df_gene_drug = pd.read_csv('/data/luis/Datasets/GNN_drug_smiles2_no_NaN.csv')  \n",
    "df_gene_drug = df_gene_drug[['Gene', 'SMILES2']]\n",
    "df_gene_drug.rename(columns={'SMILES2': 'SMILES'}, inplace=True)\n"
   ]
  },
  {
   "cell_type": "code",
   "execution_count": 6,
   "id": "625b5fbd-0dfa-48cf-a3e3-f3ddfa4cafdf",
   "metadata": {},
   "outputs": [],
   "source": [
    "## PPI DATA ##\n",
    "ppi_data = pd.read_csv('/data/luis/Datasets/gene_gene_association_f.csv')"
   ]
  },
  {
   "cell_type": "code",
   "execution_count": 7,
   "id": "c4a8dd11-2f73-4ad8-90d2-3fc0e99ab4a6",
   "metadata": {},
   "outputs": [
    {
     "name": "stdout",
     "output_type": "stream",
     "text": [
      "Length genes:  19483\n",
      "Length cells:  1751\n",
      "Length drugs:  5474\n"
     ]
    }
   ],
   "source": [
    "genes = np.unique(np.concatenate([df_gene_cell['gene'], df_gene_drug['Gene']]))\n",
    "cells = np.unique(np.concatenate([df_gene_cell['cell'], df_cell_drug['cell']]))\n",
    "drugs = np.unique(np.concatenate([df_gene_drug['SMILES'], df_cell_drug['SMILES']]))\n",
    "\n",
    "print(\"Length genes: \", len(genes))\n",
    "print(\"Length cells: \", len(cells))\n",
    "print(\"Length drugs: \", len(drugs))\n",
    "\n",
    "## MAPPINGS ##\n",
    "gene2idx = {gene: i for i, gene in enumerate(genes)} # Ex: genes = ['geneA', 'geneB', 'geneC'], gene2idx = {'geneA': 0, 'geneB': 1, 'geneC': 2}\n",
    "cell2idx = {cell: i + len(genes) for i, cell in enumerate(cells)} # Ex. cells = ['cellX', 'cellY'], cell2idx = {'cellX': 3, 'cellY': 4}\n",
    "drug2idx = {drug: i + len(genes) + len(cells) for i, drug in enumerate(drugs)} # Ex. drugs = ['drug1', 'drug2'], drug2idx = {'drug1': 5, 'drug2': 6}"
   ]
  },
  {
   "cell_type": "code",
   "execution_count": 8,
   "id": "05ed9cf4-5839-4161-8742-9de03095a0f9",
   "metadata": {},
   "outputs": [],
   "source": [
    "num_nodes = len(genes) + len(cells) + len(drugs) # total number of unique nodes\n",
    "embedding_dim = 512 #768  # Dimension of node embeddings\n",
    "node_features = torch.zeros((num_nodes, embedding_dim), dtype=torch.float32) # Initialize node features tensor"
   ]
  },
  {
   "cell_type": "code",
   "execution_count": 9,
   "id": "2770e3fe-11c3-4a0f-aec7-41ccdc28ef9e",
   "metadata": {},
   "outputs": [
    {
     "name": "stdout",
     "output_type": "stream",
     "text": [
      "Number of genes in embeddings: 13805\n",
      "Number of cells in embeddings: 998\n",
      "Number of drugs in embeddings: 5474\n"
     ]
    }
   ],
   "source": [
    "# Fill in the node features with the pre-trained embeddings\n",
    "num_genes = 0\n",
    "num_cells = 0\n",
    "num_drugs = 0\n",
    "\n",
    "for gene in genes:\n",
    "    if gene in embeddings:\n",
    "        node_features[gene2idx[gene]] = torch.tensor(embeddings[gene], dtype=torch.float32)\n",
    "        num_genes += 1\n",
    "for cell in cells:\n",
    "    if cell in embeddings:\n",
    "        node_features[cell2idx[cell]] = torch.tensor(embeddings[cell], dtype=torch.float32)\n",
    "        num_cells += 1\n",
    "for drug in drugs:\n",
    "    if drug in embeddings:\n",
    "        node_features[drug2idx[drug]] = torch.tensor(embeddings[drug], dtype=torch.float32)\n",
    "        num_drugs += 1\n",
    "\n",
    "print(f\"Number of genes in embeddings: {num_genes}\")\n",
    "print(f\"Number of cells in embeddings: {num_cells}\")\n",
    "print(f\"Number of drugs in embeddings: {num_drugs}\")"
   ]
  },
  {
   "cell_type": "code",
   "execution_count": 10,
   "id": "cb795453-e7cd-4162-951e-d5ad1a1fab5b",
   "metadata": {},
   "outputs": [],
   "source": [
    "edges = [] # These are positive edges\n",
    "\n",
    "# gene - cell edges\n",
    "for _, row in df_gene_cell.iterrows(): # iterrows() method returns an iterator that yields index-value pairs for each row in the DF\n",
    "    gene_idx = gene2idx[row['gene']] # first iteration: 'row['gene']' = 'geneA', 'gene_idx' = 0 \n",
    "    cell_idx = cell2idx[row['cell']] # first iteration: 'row['cell']' = 'cellX', 'cell_idx' = 3\n",
    "    edges.append([gene_idx, cell_idx]) # first iteration: Append '[0, 3]' to 'edges' list\n",
    "\n",
    "# cell - drug edges\n",
    "for _, row in df_cell_drug.iterrows():\n",
    "    cell_idx = cell2idx[row['cell']] # first iteration: 'row['cell']' = 'cellX', 'cell2idx' = 3\n",
    "    drug_idx = drug2idx[row['SMILES']] # first iteration: 'row['SMILES'] = 'drug1', 'drug2idx' = 5\n",
    "    edges.append([cell_idx, drug_idx]) # first iteration: Append '[3, 5]'\n",
    "    \n",
    "# Drug-Gene edges\n",
    "for _, row in df_gene_drug.iterrows():\n",
    "    drug_idx = drug2idx[row['SMILES']] # first iteration: 'row['SMILES']' = 'drug1', 'drug2idx' = 5\n",
    "    gene_idx = gene2idx[row['Gene']] # first iteration: 'row['Gene']' = 'geneA', 'gene2idx' = 0\n",
    "    edges.append([drug_idx, gene_idx]) # first iteration: Append '[5, 0]'\n",
    "edges = np.array(edges)\n",
    "#print(edges.size)"
   ]
  },
  {
   "cell_type": "code",
   "execution_count": 11,
   "id": "adacba0c-4f8b-4abd-8e8a-a986aaa337e2",
   "metadata": {},
   "outputs": [
    {
     "name": "stderr",
     "output_type": "stream",
     "text": [
      "/home/mdicome/.conda/envs/GeneLLM/lib/python3.10/site-packages/torch/cuda/__init__.py:173: UserWarning: \n",
      "NVIDIA H100 PCIe with CUDA capability sm_90 is not compatible with the current PyTorch installation.\n",
      "The current PyTorch install supports CUDA capabilities sm_37 sm_50 sm_60 sm_61 sm_70 sm_75 sm_80 sm_86 compute_37.\n",
      "If you want to use the NVIDIA H100 PCIe GPU with PyTorch, please check the instructions at https://pytorch.org/get-started/locally/\n",
      "\n",
      "  warnings.warn(incompatible_device_warn.format(device_name, capability, \" \".join(arch_list), device_name))\n"
     ]
    }
   ],
   "source": [
    "## Add PPI Edges ##\n",
    "G = nx.Graph()\n",
    "\n",
    "## UNDIRECTED EDGES (not used in LoG paper) ##\n",
    "# for edge in edges:\n",
    "#     G.add_edge(edge[0], edge[1])\n",
    "## ---------------------------------------- ##\n",
    "\n",
    "for _, row in ppi_data.iterrows():\n",
    "    if row['Gene1'] in gene2idx and row['Gene2'] in gene2idx:\n",
    "        gene1_idx = gene2idx[row['Gene1']]\n",
    "        gene2_idx = gene2idx[row['Gene2']]\n",
    "        G.add_edge(gene1_idx, gene2_idx)\n",
    "\n",
    "\n",
    "# Add all nodes that are in gene2idx to the graph to avoid missing nodes (undirected convention)\n",
    "G.add_nodes_from(gene2idx.values())\n",
    "\n",
    "# Convert the NetworkX graph to PyTorch Geometric format\n",
    "edge_index = from_networkx(G).edge_index\n",
    "\n",
    "# Ensure edges are undirected\n",
    "edge_index = to_undirected(edge_index)\n",
    "\n",
    "# Convert edge_index back to numpy and extend the edges list\n",
    "ppi_edges = edge_index.cpu().numpy().T\n",
    "edges = edges.tolist()\n",
    "edges.extend(ppi_edges.tolist())\n",
    "\n",
    "# Convert edges to torch format\n",
    "edges = torch.tensor(edges, dtype=torch.long).t().contiguous().to(device)\n"
   ]
  },
  {
   "cell_type": "code",
   "execution_count": 1,
   "id": "a93e54a9-dd76-4f63-97ba-16b59ff08736",
   "metadata": {},
   "outputs": [
    {
     "ename": "NameError",
     "evalue": "name 'cell2idx' is not defined",
     "output_type": "error",
     "traceback": [
      "\u001b[0;31m---------------------------------------------------------------------------\u001b[0m",
      "\u001b[0;31mNameError\u001b[0m                                 Traceback (most recent call last)",
      "Cell \u001b[0;32mIn[1], line 3\u001b[0m\n\u001b[1;32m      1\u001b[0m \u001b[38;5;66;03m## Divide up specific edges: cell - drug edges and all other edges (MIKAELA) ##\u001b[39;00m\n\u001b[1;32m      2\u001b[0m \u001b[38;5;66;03m## EDGES vs EDGE_INDEX ##\u001b[39;00m\n\u001b[0;32m----> 3\u001b[0m cell_indices_set \u001b[38;5;241m=\u001b[39m \u001b[38;5;28mset\u001b[39m(\u001b[43mcell2idx\u001b[49m\u001b[38;5;241m.\u001b[39mvalues())\n\u001b[1;32m      4\u001b[0m drug_indices_set \u001b[38;5;241m=\u001b[39m \u001b[38;5;28mset\u001b[39m(drug2idx\u001b[38;5;241m.\u001b[39mvalues())\n\u001b[1;32m      6\u001b[0m cell_drug_edges \u001b[38;5;241m=\u001b[39m []\n",
      "\u001b[0;31mNameError\u001b[0m: name 'cell2idx' is not defined"
     ]
    }
   ],
   "source": [
    "## Divide up specific edges: cell - drug edges and all other edges (MIKAELA) ##\n",
    "## EDGES vs EDGE_INDEX ##\n",
    "cell_indices_set = set(cell2idx.values())\n",
    "drug_indices_set = set(drug2idx.values())\n",
    "\n",
    "cell_drug_edges = []\n",
    "other_edges = []\n",
    "\n",
    "for i in range(edges.size(1)):\n",
    "    src, dst = edges[0, i].item(), edges[1, i].item()\n",
    "    if (src in cell_indices_set and dst in drug_indices_set) or (src in drug_indices_set and dst in cell_indices_set):\n",
    "        cell_drug_edges.append([src, dst])\n",
    "    else:\n",
    "        other_edges.append([src, dst])\n",
    "\n",
    "print(\"cell drug edges: \", len(cell_drug_edges))\n",
    "print(\"all other edges: \", len(other_edges))\n",
    "\n",
    "## Convert edge lists in tensors ##\n",
    "cell_drug_edges = torch.tensor(cell_drug_edges, dtype=torch.long).t().to(device)\n",
    "other_edges = torch.tensor(other_edges, dtype=torch.long).t().to(device)"
   ]
  },
  {
   "cell_type": "code",
   "execution_count": 38,
   "id": "9f5a6ce5-771b-4b67-a6d7-1f7f03cff3e1",
   "metadata": {},
   "outputs": [
    {
     "name": "stdout",
     "output_type": "stream",
     "text": [
      "Train cell drug edges size:  21152\n",
      "Test cell drug edges size:  5289\n"
     ]
    }
   ],
   "source": [
    "## Split edges into Training and Testing Sets (MIKAELA) ##\n",
    "# RANDOM CELL - DRUG EDGES SPLIT\n",
    "train_cell_drug_edges, test_cell_drug_edges = train_test_split(cell_drug_edges.t().cpu().numpy(), test_size=0.2, random_state=1234) # with ppi\n",
    "\n",
    "# Convert back to PyTorch Tensors\n",
    "train_cell_drug_edges = torch.tensor(train_cell_drug_edges, dtype=torch.long).t().to(device)\n",
    "print(\"Train cell drug edges size: \", train_cell_drug_edges.size(1))\n",
    "test_cell_drug_edges = torch.tensor(test_cell_drug_edges, dtype=torch.long).t().to(device)\n",
    "print(\"Test cell drug edges size: \", test_cell_drug_edges.size(1))\n",
    "\n",
    "# other edges\n",
    "# train_other_edges, test_other_edges = train_test_split(other_edges.t().cpu().numpy(), test_size=0.2, random_state=1234) # use with ppi"
   ]
  },
  {
   "cell_type": "code",
   "execution_count": 39,
   "id": "c04492f2-db68-4a06-b489-36063f9f8116",
   "metadata": {},
   "outputs": [],
   "source": [
    "## Clone the original edges index for reference ##\n",
    "## EDGES vs EDGE_INDEX ##\n",
    "original_edge_index = edges.clone().to(device)"
   ]
  },
  {
   "cell_type": "code",
   "execution_count": 40,
   "id": "1fa0488f-d025-4cec-bb80-41544e49b938",
   "metadata": {},
   "outputs": [
    {
     "name": "stdout",
     "output_type": "stream",
     "text": [
      "torch.Size([2, 1333254])\n",
      "Shape of train_edge_index:  1333254\n"
     ]
    }
   ],
   "source": [
    "## Remove the edges in cell_drug_edge_index for training ##\n",
    "## EDGES vs EDGE_INDEX ##\n",
    "'''\n",
    "'edge_index.size(1)': retreives the size of the second dimension [2, num_edges] = num_edges and creates a 1D tensor filled with ones with len(num_edges)\n",
    "'dtype=torch.bool': sets all 1s = True, so each element in tensor will be 'True'.\n",
    "'device=edge_index.device': ensures the 'mask' tensor is created on the same device as 'edge_index'\n",
    "'''\n",
    "mask = torch.ones(edges.size(1), dtype=torch.bool, device=edges.device)\n",
    "\n",
    "for i in range(cell_drug_edges.size(1)): # iterating over each 'cell_drug_edge', size 'cell_drug_edge.size(1)'\n",
    "    '''\n",
    "    'edge_index[0] == cell_drug_edges[0, i]' check source node of any edge in 'edge_index' matches source node in 'cell_drug_edge'\n",
    "    'edge_index[1] == cell_drug_edges[1, i]' checks if target node of any edge in 'edge_index' matches target node in 'cell_drug_edge'\n",
    "    '''\n",
    "    match = (edges[0] == cell_drug_edges[0, i]) & (edges[1] == cell_drug_edges[1, i])\n",
    "    mask = mask & ~match # Updates 'mask' by setting elements to 'False' where there is a match between an edge in 'edge_index' and the current 'cell_drug_edge'\n",
    "    # This EXCLUDES these matching edges from further processing\n",
    "    \n",
    "# This includes all edges EXCEPT those edges that match in 'edge_index' and 'cell_drug_index' that aren't already in 'train_cell_drug_edges'\n",
    "train_edge_index = torch.cat([original_edge_index[:, mask], train_cell_drug_edges], dim=1).to(device)\n",
    "print(train_edge_index.shape)\n",
    "print(\"Shape of train_edge_index: \", train_edge_index.size(1))"
   ]
  },
  {
   "cell_type": "code",
   "execution_count": 41,
   "id": "727313bc-e9ee-4b64-955c-961261a6f0fa",
   "metadata": {},
   "outputs": [
    {
     "name": "stdout",
     "output_type": "stream",
     "text": [
      "train_data_cd size:  26714\n",
      "Number of edges in train_data_cd:  21152\n",
      "train_data size:  26714\n",
      "Number of edges in train_data:  1333254\n",
      "Number of edges in test_data:  5289\n"
     ]
    }
   ],
   "source": [
    "## Prepare the Data Objects ##\n",
    "train_data_cd = Data(x=node_features, edge_index=train_cell_drug_edges).to(device) ## drug - cell data object ##\n",
    "train_data = Data(x=node_features, edge_index=train_edge_index).to(device) # random cell drug edges\n",
    "test_data = Data(x=node_features, edge_index=test_cell_drug_edges).to(device) # random cell drug edges\n",
    "# data = Data(x=node_features, edge_index=original_edge_index).to(device) # all edges\n",
    "\n",
    "print(\"train_data_cd size: \", train_data_cd.size(1))\n",
    "print(\"Number of edges in train_data_cd: \", train_data_cd.edge_index.size(1))\n",
    "print(\"train_data size: \", train_data.size(1))\n",
    "print(\"Number of edges in train_data: \", train_data.edge_index.size(1))\n",
    "#print(\"test_data size: \", test_data.x.shape) # [num_nodes, num_features]\n",
    "print(\"Number of edges in test_data: \", test_data.edge_index.size(1))"
   ]
  },
  {
   "cell_type": "code",
   "execution_count": 42,
   "id": "acac5414",
   "metadata": {},
   "outputs": [],
   "source": [
    "## Positive and Negative samples for cell - drug edges ##\n",
    "def generate_cell_drug_edge_samples_with_split(cell_nodes, drug_nodes, train_pos_edge_index, test_pos_edge_index, num_neg_samples):\n",
    "    # Generate all possible edges between the given 'cell_nodes' and 'drug_nodes'. Results in every possible pair of cell and drug nodes.\n",
    "    all_possible_edges = torch.cartesian_prod(cell_nodes, drug_nodes)\n",
    "\n",
    "    # Convert existing positive edges to a set \n",
    "    train_pos_edges_set = set(map(tuple, train_pos_edge_index.t().tolist()))\n",
    "    test_pos_edges_set = set(map(tuple, test_pos_edge_index.t().tolist()))\n",
    "\n",
    "    # Combine both sets to exclude any edges that is in either the training or testing positive edge sets\n",
    "    all_pos_edges_set = test_pos_edges_set.union(train_pos_edges_set)\n",
    "\n",
    "    # Filter out positive edges to get candidate negative edges\n",
    "    candidate_neg_edges = [tuple(edge.tolist()) for edge in all_possible_edges if tuple(edge.tolist()) not in all_pos_edges_set]\n",
    "    \n",
    "    if len(candidate_neg_edges) < num_neg_samples:\n",
    "        print(f\"Warning: Only {len(candidate_neg_edges)} negative samples available, fewer than requested {num_neg_samples}.\")\n",
    "        num_neg_samples = len(candidate_neg_edges)\n",
    "\n",
    "    # Randomly select a number of negative samples, from remaining 'candidate_neg_edges', equal to num_neg_samples\n",
    "    neg_edge_index = torch.tensor(candidate_neg_edges, dtype=torch.long).T\n",
    "    neg_edge_index = neg_edge_index[:, torch.randperm(neg_edge_index.size(1))[:num_neg_samples]]\n",
    "\n",
    "    # Split the negative edges into training and testing sets\n",
    "    split_idx = int(0.8 * num_neg_samples) # Calculate the split index\n",
    "    neg_train_edge_index = neg_edge_index[:, :split_idx] # Split the negative edges into training set, first 80%\n",
    "    neg_test_edge_index = neg_edge_index[:, split_idx:] # Split the negative edges into testing set, last 20%\n",
    "\n",
    "\n",
    "    return neg_train_edge_index, neg_test_edge_index"
   ]
  },
  {
   "cell_type": "code",
   "execution_count": 43,
   "id": "f5b20318",
   "metadata": {},
   "outputs": [
    {
     "name": "stdout",
     "output_type": "stream",
     "text": [
      "train_cd_neg_edge size:  21152\n",
      "test size:  5289\n"
     ]
    }
   ],
   "source": [
    "## train cd negative edges ##\n",
    "## Preparing cell and drug nodes for intput into generate_cell_drug_edge_samples() ##\n",
    "cell_nodes = torch.tensor(list(cell2idx.values()), dtype=torch.long).to(device)\n",
    "drugs_nodes = torch.tensor(list(drug2idx.values()), dtype=torch.long).to(device)\n",
    "\n",
    "num_train_pos_edges = train_data_cd.edge_index.size(1)\n",
    "num_test_pos_edges = test_data.edge_index.size(1)\n",
    "\n",
    "# Total number of positive edges\n",
    "total_num_pos_edges = num_train_pos_edges + num_test_pos_edges\n",
    "\n",
    "train_cd_neg_edge, cell_drug_neg_edges = generate_cell_drug_edge_samples_with_split(cell_nodes, drugs_nodes, train_data_cd.edge_index, test_data.edge_index, total_num_pos_edges)\n",
    "\n",
    "print(\"train_cd_neg_edge size: \", train_cd_neg_edge.size(1))\n",
    "print(\"test size: \", cell_drug_neg_edges.size(1))"
   ]
  },
  {
   "cell_type": "code",
   "execution_count": 44,
   "id": "9a755590-c4f3-4462-876d-8de7b6cebf7f",
   "metadata": {},
   "outputs": [],
   "source": [
    "class GCN(torch.nn.Module):\n",
    "    def __init__(self):\n",
    "        super(GCN, self).__init__()\n",
    "        self.conv1 = GCNConv(embedding_dim, 128)\n",
    "        self.conv2 = GCNConv(128, 64)\n",
    "        self.conv3 = GCNConv(64, 64)\n",
    "        self.leaky_relu = torch.nn.LeakyReLU(negative_slope=0.2)  # Adding Leaky ReLU as non-linearity\n",
    "\n",
    "    def forward(self, x, edge_index):\n",
    "        # convolution layer 1\n",
    "        x = self.conv1(x, edge_index)\n",
    "        x = self.leaky_relu(x)\n",
    "        x = F.dropout(x, p=0.3, training=self.training)\n",
    "\n",
    "        # convolution layer 2\n",
    "        x = self.conv2(x, edge_index)\n",
    "        x = self.leaky_relu(x)\n",
    "        x = F.dropout(x, p=0.3, training=self.training)\n",
    "\n",
    "        # convolution layer 3\n",
    "        x = self.conv3(x, edge_index)\n",
    "        return x\n",
    "    \n",
    "    def decode(self, z, pos_edge_index, neg_edge_index):\n",
    "        edge_index = torch.cat([pos_edge_index, neg_edge_index], dim=-1)\n",
    "        logits = (z[edge_index[0]] * z[edge_index[1]]).sum(dim=-1)\n",
    "\n",
    "        return logits"
   ]
  },
  {
   "cell_type": "code",
   "execution_count": 45,
   "id": "a0f43a88-171f-496c-91fb-8f68bb48cf6a",
   "metadata": {},
   "outputs": [],
   "source": [
    "model = GCN().to(device) \n",
    "optimizer = torch.optim.Adam(model.parameters(), lr=0.005, weight_decay=5e-4)\n",
    "criterion = torch.nn.BCEWithLogitsLoss()\n",
    "sigmoid = torch.nn.Sigmoid()\n",
    "train_losses = []\n",
    "\n",
    "def train():\n",
    "    model.train()\n",
    "    optimizer.zero_grad()\n",
    "    z = model(train_data.x, train_data.edge_index) # Message Passing \n",
    "    \n",
    "    pos_samples = train_data_cd.edge_index # for cell -drug edge loss calculation \n",
    "    neg_samples = train_cd_neg_edge.to(device)\n",
    "    labels = torch.cat([torch.ones(pos_samples.size(1)), torch.zeros(neg_samples.size(1))]).to(device) # for cell -drug edge loss calculation\n",
    "    \n",
    "    logits = model.decode(z, pos_samples, neg_samples).to(device) # for cell -drug edge loss calculation\n",
    "    #prob = sigmoid(logits) # get logits between 0 and 1\n",
    "                        \n",
    "    loss = criterion(logits, labels) # loss calculation on cell - drug edges\n",
    "    loss.backward()\n",
    "    optimizer.step()\n",
    "\n",
    "    train_losses.append(loss.item())\n",
    "    \n",
    "    return loss.item()\n"
   ]
  },
  {
   "cell_type": "code",
   "execution_count": 46,
   "id": "6605e355-1f10-402f-bbf0-2ceadcb48a8d",
   "metadata": {},
   "outputs": [
    {
     "name": "stdout",
     "output_type": "stream",
     "text": [
      "Epoch 10, Loss: 0.7205\n",
      "Epoch 20, Loss: 0.7209\n",
      "Epoch 30, Loss: 0.6982\n",
      "Epoch 40, Loss: 0.6923\n",
      "Epoch 50, Loss: 0.6922\n",
      "Epoch 60, Loss: 0.6909\n",
      "Epoch 70, Loss: 0.6882\n",
      "Epoch 80, Loss: 0.6884\n",
      "Epoch 90, Loss: 0.6914\n",
      "Epoch 100, Loss: 0.6831\n",
      "Epoch 110, Loss: 0.6843\n",
      "Epoch 120, Loss: 0.6783\n",
      "Epoch 130, Loss: 0.6865\n",
      "Epoch 140, Loss: 0.6756\n",
      "Epoch 150, Loss: 0.6754\n",
      "Epoch 160, Loss: 0.6642\n",
      "Epoch 170, Loss: 0.6594\n",
      "Epoch 180, Loss: 0.6519\n",
      "Epoch 190, Loss: 0.6628\n",
      "Epoch 200, Loss: 0.6665\n",
      "Epoch 210, Loss: 0.6547\n",
      "Epoch 220, Loss: 0.6392\n",
      "Epoch 230, Loss: 0.6248\n",
      "Epoch 240, Loss: 0.6091\n",
      "Epoch 250, Loss: 0.6162\n",
      "Epoch 260, Loss: 0.6262\n",
      "Epoch 270, Loss: 0.6398\n",
      "Epoch 280, Loss: 0.5930\n",
      "Epoch 290, Loss: 0.6043\n",
      "Epoch 300, Loss: 0.5874\n",
      "Epoch 310, Loss: 0.5711\n",
      "Epoch 320, Loss: 0.6701\n",
      "Epoch 330, Loss: 0.6350\n",
      "Epoch 340, Loss: 0.6754\n",
      "Epoch 350, Loss: 0.6079\n",
      "Epoch 360, Loss: 0.5588\n",
      "Epoch 370, Loss: 0.6050\n",
      "Epoch 380, Loss: 0.5762\n",
      "Epoch 390, Loss: 0.5499\n",
      "Epoch 400, Loss: 0.5330\n",
      "Epoch 410, Loss: 0.5209\n",
      "Epoch 420, Loss: 0.5355\n",
      "Epoch 430, Loss: 0.5190\n",
      "Epoch 440, Loss: 0.5491\n",
      "Epoch 450, Loss: 0.5186\n",
      "Epoch 460, Loss: 0.5121\n",
      "Epoch 470, Loss: 0.5907\n",
      "Epoch 480, Loss: 0.5059\n",
      "Epoch 490, Loss: 0.5321\n",
      "Epoch 500, Loss: 0.5071\n",
      "Epoch 510, Loss: 0.5490\n",
      "Epoch 520, Loss: 0.5221\n",
      "Epoch 530, Loss: 0.5200\n",
      "Epoch 540, Loss: 0.5564\n",
      "Epoch 550, Loss: 0.5084\n",
      "Epoch 560, Loss: 0.5143\n",
      "Epoch 570, Loss: 0.4978\n",
      "Epoch 580, Loss: 0.4879\n",
      "Epoch 590, Loss: 0.5505\n",
      "Epoch 600, Loss: 0.5347\n",
      "Epoch 610, Loss: 0.4920\n",
      "Epoch 620, Loss: 0.5010\n",
      "Epoch 630, Loss: 0.5773\n",
      "Epoch 640, Loss: 0.5226\n",
      "Epoch 650, Loss: 0.5284\n",
      "Epoch 660, Loss: 0.5640\n",
      "Epoch 670, Loss: 0.5090\n",
      "Epoch 680, Loss: 0.4897\n",
      "Epoch 690, Loss: 0.4813\n",
      "Epoch 700, Loss: 0.4739\n",
      "Epoch 710, Loss: 0.5670\n",
      "Epoch 720, Loss: 0.4658\n",
      "Epoch 730, Loss: 0.4829\n",
      "Epoch 740, Loss: 0.4766\n",
      "Epoch 750, Loss: 0.5547\n",
      "Epoch 760, Loss: 0.5335\n",
      "Epoch 770, Loss: 0.5175\n",
      "Epoch 780, Loss: 0.5129\n",
      "Epoch 790, Loss: 0.5358\n",
      "Epoch 800, Loss: 0.4746\n",
      "Epoch 810, Loss: 0.4784\n",
      "Epoch 820, Loss: 0.5134\n",
      "Epoch 830, Loss: 0.4840\n",
      "Epoch 840, Loss: 0.4842\n",
      "Epoch 850, Loss: 0.4749\n",
      "Epoch 860, Loss: 0.4763\n",
      "Epoch 870, Loss: 0.5400\n",
      "Epoch 880, Loss: 0.4622\n",
      "Epoch 890, Loss: 0.5037\n",
      "Epoch 900, Loss: 0.4690\n",
      "Epoch 910, Loss: 0.5149\n",
      "Epoch 920, Loss: 0.5246\n",
      "Epoch 930, Loss: 0.4719\n",
      "Epoch 940, Loss: 0.4869\n",
      "Epoch 950, Loss: 0.4913\n",
      "Epoch 960, Loss: 0.4730\n",
      "Epoch 970, Loss: 0.4774\n",
      "Epoch 980, Loss: 0.4678\n",
      "Epoch 990, Loss: 0.5013\n",
      "Epoch 1000, Loss: 0.4794\n"
     ]
    }
   ],
   "source": [
    "patience = 20 # Number of epochs to wair for improvement\n",
    "patience_counter = 0 # Keeps track of how many epochs since the last improvement\n",
    "best_train_loss = float('inf') # Initialize the best loss to infinity\n",
    "\n",
    "# Training Loop\n",
    "for epoch in range(1, 1001):\n",
    "    loss = train()  \n",
    "    \n",
    "    if epoch % 10 == 0:\n",
    "        print(f'Epoch {epoch}, Loss: {loss:.4f}')\n",
    "\n",
    "        if loss < best_train_loss:\n",
    "            best_train_loss = loss\n",
    "            patience_counter = 0\n",
    "        else:\n",
    "            patience_counter += 1\n",
    "        \n",
    "        # Early stopping condition based on trainig loss\n",
    "        if patience_counter >= patience:\n",
    "            print(f'Early stopping: Training loss has not improved for the last {patience} epochs.')\n",
    "            break\n"
   ]
  },
  {
   "cell_type": "code",
   "execution_count": 49,
   "id": "6831955d-c2b3-4ff3-a469-fa6d84d3f64b",
   "metadata": {},
   "outputs": [],
   "source": [
    "## INCLUDES ALL EDGES (drug, cell, gene nodes) ##\n",
    "\n",
    "def eval_specific_edges(model, pos_edge_index, neg_edge_index):\n",
    "    model.eval()\n",
    "    with torch.no_grad():\n",
    "        z = model(test_data.x, train_data.edge_index)\n",
    "        logits = model.decode(z, pos_edge_index, neg_edge_index)\n",
    "\n",
    "    pos_pred = logits[:pos_edge_index.size(1)]\n",
    "    neg_pred = logits[pos_edge_index.size(1):]\n",
    "\n",
    "    pos_label = torch.ones(pos_edge_index.size(1), device=device)\n",
    "    neg_label = torch.zeros(neg_edge_index.size(1), device=device)\n",
    "\n",
    "    label = torch.cat([pos_label, neg_label]).cpu()\n",
    "    pred = torch.cat([torch.sigmoid(pos_pred), torch.sigmoid(neg_pred)]).cpu()\n",
    "\n",
    "    accuracy = accuracy_score(label, (pred > 0.5).int())\n",
    "    roc_auc = roc_auc_score(label, pred)\n",
    "\n",
    "    print(f'Accuracy: {accuracy:.4f}')\n",
    "    print(f'AUC: {roc_auc:.4f}')\n",
    "\n",
    "\n",
    "    # Plot ROC curve\n",
    "    fpr, tpr, _ = roc_curve(label, pred)\n",
    "    plt.figure()\n",
    "    plt.plot(fpr, tpr, label=f'ROC curve (area = {roc_auc:.4f})')\n",
    "    plt.plot([0, 1], [0, 1], 'k--')\n",
    "    plt.xlim([0.0, 1.0])\n",
    "    plt.ylim([0.0, 1.05])\n",
    "    plt.xlabel('False Positive Rate')\n",
    "    plt.ylabel('True Positive Rate')\n",
    "    plt.title('ROC Curve')\n",
    "    plt.legend(loc=\"lower right\")\n",
    "    plt.show()\n",
    "    \n",
    "    return accuracy, roc_auc"
   ]
  },
  {
   "cell_type": "code",
   "execution_count": 50,
   "id": "c0bb2bf8-171c-4822-bc6c-0c1577c762b7",
   "metadata": {},
   "outputs": [
    {
     "name": "stdout",
     "output_type": "stream",
     "text": [
      "Accuracy: 0.8195\n",
      "AUC: 0.8866\n"
     ]
    },
    {
     "data": {
      "image/png": "[encoded data removed]",
      "text/plain": [
       "<Figure size 640x480 with 1 Axes>"
      ]
     },
     "metadata": {},
     "output_type": "display_data"
    }
   ],
   "source": [
    "test_auc = eval_specific_edges(model, test_data.edge_index.to(device), cell_drug_neg_edges.to(device))"
   ]
  }
 ],
 "metadata": {
  "kernelspec": {
   "display_name": "Python (GeneLLM)",
   "language": "python",
   "name": "myenv"
  },
  "language_info": {
   "codemirror_mode": {
    "name": "ipython",
    "version": 3
   },
   "file_extension": ".py",
   "mimetype": "text/x-python",
   "name": "python",
   "nbconvert_exporter": "python",
   "pygments_lexer": "ipython3",
   "version": "3.10.12"
  }
 },
 "nbformat": 4,
 "nbformat_minor": 5
}
